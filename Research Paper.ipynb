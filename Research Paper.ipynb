{
 "cells": [
  {
   "cell_type": "code",
   "execution_count": 1,
   "metadata": {
    "collapsed": true
   },
   "outputs": [],
   "source": [
    "import os\n",
    "import sys\n",
    "import random\n",
    "module_path = os.path.abspath(os.path.join('./code'))\n",
    "if module_path not in sys.path:\n",
    "    sys.path.append(module_path)"
   ]
  },
  {
   "cell_type": "code",
   "execution_count": 2,
   "metadata": {
    "collapsed": true
   },
   "outputs": [],
   "source": [
    "import readlist_revised as rl"
   ]
  },
  {
   "cell_type": "code",
   "execution_count": 3,
   "metadata": {
    "collapsed": true
   },
   "outputs": [],
   "source": [
    "def generate_file(filename, num_steps, width_contig, \n",
    "                  gap_size, num_delta, num_overlaps, \n",
    "                  start_variance, end_variance):\n",
    "    outfile = open(filename, \"w\")\n",
    "    for i in range(num_steps):\n",
    "        for j in range(num_overlaps):\n",
    "            start_shift = int(random.random()*start_variance)\n",
    "            end_shift = int(random.random()*end_variance)\n",
    "            outfile.write(\"{}\\t{}\\n\".format(\n",
    "                i*width_contig+num_delta*j+i*gap_size+start_shift,\n",
    "                (i+1)*width_contig+num_delta*j+i*gap_size+start_shift+end_shift))\n",
    "    outfile.close()\n",
    "    return"
   ]
  },
  {
   "cell_type": "code",
   "execution_count": 4,
   "metadata": {
    "collapsed": true
   },
   "outputs": [],
   "source": [
    "def generate_file_to_end(filename, end_coord, width_contig, \n",
    "                  gap_size, num_delta, num_overlaps, \n",
    "                  start_variance, end_variance):\n",
    "    outfile = open(filename, \"w\")\n",
    "    i = 0\n",
    "    keep_going = True\n",
    "    while keep_going:\n",
    "        for j in range(num_overlaps):\n",
    "            start_shift = int(random.random()*start_variance)\n",
    "            end_shift = int(random.random()*end_variance)\n",
    "            start = i*width_contig+num_delta*j+i*gap_size+start_shift\n",
    "            end = (i+1)*width_contig+num_delta*j+i*gap_size+start_shift+end_shift\n",
    "            if end > end_coord:\n",
    "                keep_going = False\n",
    "                break\n",
    "            outfile.write(\"{}\\t{}\\n\".format(start,end))\n",
    "        i += 1\n",
    "    outfile.close()\n",
    "    return"
   ]
  },
  {
   "cell_type": "code",
   "execution_count": 5,
   "metadata": {
    "collapsed": true
   },
   "outputs": [],
   "source": [
    "generate_file_to_end(\"test1.txt\", 3000, 10, -3, 1, 2,0,9)\n",
    "generate_file_to_end(\"test2.txt\", 3000, 60, 160, 1, 2,20,15)"
   ]
  },
  {
   "cell_type": "code",
   "execution_count": 6,
   "metadata": {
    "collapsed": true
   },
   "outputs": [],
   "source": [
    "infile = open(\"test1.txt\", \"r\")\n",
    "L = infile.readlines()\n",
    "infile.close()"
   ]
  },
  {
   "cell_type": "code",
   "execution_count": 7,
   "metadata": {},
   "outputs": [
    {
     "name": "stdout",
     "output_type": "stream",
     "text": [
      "7552\n"
     ]
    }
   ],
   "source": [
    "print(sys.getsizeof(L))"
   ]
  },
  {
   "cell_type": "code",
   "execution_count": 8,
   "metadata": {},
   "outputs": [
    {
     "name": "stdout",
     "output_type": "stream",
     "text": [
      "Opened test1.txt\n",
      "Opened test2.txt\n"
     ]
    }
   ],
   "source": [
    "R1 = rl.ReadList(\"test1.txt\", 0, 1)\n",
    "R2 = rl.ReadList(\"test2.txt\", 0, 1)"
   ]
  },
  {
   "cell_type": "code",
   "execution_count": 9,
   "metadata": {
    "scrolled": true
   },
   "outputs": [
    {
     "name": "stdout",
     "output_type": "stream",
     "text": [
      "64\n"
     ]
    }
   ],
   "source": [
    "print(sys.getsizeof(R1.L))"
   ]
  },
  {
   "cell_type": "code",
   "execution_count": 10,
   "metadata": {
    "collapsed": true
   },
   "outputs": [],
   "source": [
    "def size_list_and_elements(L):\n",
    "    sizesum = sys.getsizeof(L)\n",
    "    for item in L:\n",
    "        sizesum += sys.getsizeof(item)\n",
    "    return sizesum"
   ]
  },
  {
   "cell_type": "code",
   "execution_count": 11,
   "metadata": {},
   "outputs": [
    {
     "data": {
      "text/plain": [
       "64"
      ]
     },
     "execution_count": 11,
     "metadata": {},
     "output_type": "execute_result"
    }
   ],
   "source": [
    "size_list_and_elements(R1.L)"
   ]
  },
  {
   "cell_type": "code",
   "execution_count": 12,
   "metadata": {
    "collapsed": true
   },
   "outputs": [],
   "source": [
    "import matplotlib.pyplot as plt\n",
    "import matplotlib.patches as patches"
   ]
  },
  {
   "cell_type": "code",
   "execution_count": 13,
   "metadata": {
    "collapsed": true
   },
   "outputs": [],
   "source": [
    "def plotline(line, height, plot, color=\"\"):\n",
    "    tup1 = line[0], line[1]\n",
    "    tup2 = height, height\n",
    "    if color:\n",
    "        plot.plot(tup1, tup2, color)\n",
    "    else:\n",
    "        plot.plot(tup1, tup2)"
   ]
  },
  {
   "cell_type": "code",
   "execution_count": 14,
   "metadata": {
    "collapsed": true
   },
   "outputs": [],
   "source": [
    "def plot_overlaps(R1,R2, upper, lower):\n",
    "    plt.figure(figsize=(10,1))\n",
    "    plt.grid()\n",
    "    i = 0\n",
    "    for line in R1:\n",
    "        plotline(line, i, plt, color=\"b\")\n",
    "        i = (i + 1) % upper\n",
    "    i = 0\n",
    "    for line in R2:\n",
    "        plotline(line, -(i+1), plt, color=\"r\")\n",
    "        i = (i + 1) % lower\n",
    "    plt.show()"
   ]
  },
  {
   "cell_type": "code",
   "execution_count": 15,
   "metadata": {},
   "outputs": [
    {
     "data": {
      "image/png": "[encoded data removed]",
      "text/plain": [
       "<matplotlib.figure.Figure at 0x105e70128>"
      ]
     },
     "metadata": {},
     "output_type": "display_data"
    }
   ],
   "source": [
    "plot_overlaps(R1, R2, 10, 4)"
   ]
  },
  {
   "cell_type": "code",
   "execution_count": 16,
   "metadata": {},
   "outputs": [
    {
     "name": "stdout",
     "output_type": "stream",
     "text": [
      "Opened test1.txt\n",
      "Opened test2.txt\n",
      "Opened OUT_A.txt\n",
      "Opened test1.txt\n",
      "Opened test2.txt\n",
      "Opened OUT_B.txt\n"
     ]
    }
   ],
   "source": [
    "A = rl.Aligner(\"test1.txt\", 0, 1, \"test2.txt\", 0, 1, \"OUT_A.txt\")\n",
    "B = rl.Aligner(\"test1.txt\", 0, 1, \"test2.txt\", 0, 1, \"OUT_B.txt\")"
   ]
  },
  {
   "cell_type": "code",
   "execution_count": 17,
   "metadata": {
    "collapsed": true
   },
   "outputs": [],
   "source": [
    "#B will be the naive runner\n",
    "B.overload()"
   ]
  },
  {
   "cell_type": "code",
   "execution_count": 18,
   "metadata": {
    "collapsed": true
   },
   "outputs": [],
   "source": [
    "#cProfile.run('A = rl.Aligner(\"test1.txt\",\"test2.txt\",\"OUT.txt\"); A.run()')"
   ]
  },
  {
   "cell_type": "code",
   "execution_count": 19,
   "metadata": {},
   "outputs": [
    {
     "name": "stdout",
     "output_type": "stream",
     "text": [
      "Closed test1.txt\n",
      "Closed test2.txt\n",
      "Closed OUT_A.txt\n",
      "Closed test1.txt\n",
      "Closed test2.txt\n",
      "Closed OUT_B.txt\n"
     ]
    },
    {
     "data": {
      "text/plain": [
       "643"
      ]
     },
     "execution_count": 19,
     "metadata": {},
     "output_type": "execute_result"
    }
   ],
   "source": [
    "A.run_with_space_analysis(\"log_A.txt\")\n",
    "B.run_with_space_analysis(\"log_B.txt\")"
   ]
  },
  {
   "cell_type": "code",
   "execution_count": 20,
   "metadata": {
    "collapsed": true
   },
   "outputs": [],
   "source": [
    "import numpy as np"
   ]
  },
  {
   "cell_type": "code",
   "execution_count": 21,
   "metadata": {
    "collapsed": true
   },
   "outputs": [],
   "source": [
    "sizes_A = np.sum(np.genfromtxt(\"log_A.txt\"), axis = 1)"
   ]
  },
  {
   "cell_type": "code",
   "execution_count": 22,
   "metadata": {
    "collapsed": true
   },
   "outputs": [],
   "source": [
    "sizes_B = np.sum(np.genfromtxt(\"log_B.txt\"), axis = 1)"
   ]
  },
  {
   "cell_type": "code",
   "execution_count": 23,
   "metadata": {},
   "outputs": [
    {
     "data": {
      "image/png": "[encoded data removed]",
      "text/plain": [
       "<matplotlib.figure.Figure at 0x10723f048>"
      ]
     },
     "metadata": {},
     "output_type": "display_data"
    }
   ],
   "source": [
    "plt.figure()\n",
    "plt.plot(range(len(sizes_A)),sizes_A)\n",
    "plt.plot(range(len(sizes_B)),sizes_B)\n",
    "plt.grid()\n",
    "plt.show()"
   ]
  },
  {
   "cell_type": "code",
   "execution_count": 24,
   "metadata": {
    "collapsed": true
   },
   "outputs": [],
   "source": [
    "def run_and_graph_on_test_files(file1, col11, col12, file2, col21, col22, \n",
    "                                out_A, out_B, log_A, log_B, plot_A=True, plot_B=True):\n",
    "    \n",
    "    A = rl.Aligner(file1, col11, col12, file2, col21, col22, out_A)\n",
    "    B = rl.Aligner(file1, col11, col12, file2, col21, col22, out_B)\n",
    "    \n",
    "    B.overload()\n",
    "    \n",
    "    aligns = A.run_with_space_analysis(log_A)\n",
    "    B.run_with_space_analysis(log_B)\n",
    "    \n",
    "    sizes_A = np.sum(np.genfromtxt(log_A), axis = 1)\n",
    "    sizes_B = np.sum(np.genfromtxt(log_B), axis = 1)\n",
    "    \n",
    "    plt.figure()\n",
    "    \n",
    "    length_A = len(sizes_A)\n",
    "    length_B = len(sizes_B)\n",
    "    desired_length = 100\n",
    "    step_size_A = length_A//desired_length\n",
    "    step_size_B = length_B//desired_length\n",
    "    if not step_size_A:\n",
    "        step_size_A = 1\n",
    "    if not step_size_B:\n",
    "        step_size_B = 1    \n",
    "    \n",
    "    plot_view_A = sizes_A[::step_size_A]\n",
    "    plot_view_B = sizes_B[::step_size_B]\n",
    "    \n",
    "    range_A = range(len(plot_view_A))\n",
    "    range_B = range(len(plot_view_B))\n",
    "    \n",
    "    if plot_A:\n",
    "        plt.plot(range_A,plot_view_A)\n",
    "    if plot_B:\n",
    "        plt.plot(range_B,plot_view_B)\n",
    "    plt.yticks([0])\n",
    "    plt.xticks([])\n",
    "    plt.grid()\n",
    "    plt.show()\n",
    "        \n",
    "    return sizes_A.mean(), sizes_A.max(), sizes_B.mean(), sizes_B.max()\n",
    "                    "
   ]
  },
  {
   "cell_type": "code",
   "execution_count": 25,
   "metadata": {},
   "outputs": [
    {
     "name": "stdout",
     "output_type": "stream",
     "text": [
      "Opened test1.txt\n",
      "Opened test2.txt\n",
      "Opened outa.txt\n",
      "Opened test1.txt\n",
      "Opened test2.txt\n",
      "Opened outb.txt\n",
      "Closed test1.txt\n",
      "Closed test2.txt\n",
      "Closed outa.txt\n",
      "Closed test1.txt\n",
      "Closed test2.txt\n",
      "Closed outb.txt\n"
     ]
    },
    {
     "data": {
      "image/png": "[encoded data removed]",
      "text/plain": [
       "<matplotlib.figure.Figure at 0x1073067f0>"
      ]
     },
     "metadata": {},
     "output_type": "display_data"
    },
    {
     "name": "stdout",
     "output_type": "stream",
     "text": [
      "Closed outa.txt\n",
      "Closed outb.txt\n"
     ]
    },
    {
     "data": {
      "text/plain": [
       "(1121.8081824279006, 2384.0, 38183.034205231386, 70904.0)"
      ]
     },
     "execution_count": 25,
     "metadata": {},
     "output_type": "execute_result"
    }
   ],
   "source": [
    "run_and_graph_on_test_files(\"test1.txt\", 0, 1,\n",
    "                            \"test2.txt\", 0, 1,\n",
    "                            \"outa.txt\",\n",
    "                            \"outb.txt\",\n",
    "                            \"loga.txt\",\n",
    "                            \"logb.txt\")"
   ]
  },
  {
   "cell_type": "code",
   "execution_count": 26,
   "metadata": {
    "collapsed": true
   },
   "outputs": [],
   "source": [
    "def analyze(length, tag):\n",
    "    generate_file_to_end(\"test1_{}.txt\".format(tag), 30*length, 10, -3, 1, 2,0,9)\n",
    "    generate_file_to_end(\"test2_{}.txt\".format(tag), 30*length, 60, 160, 1, 2,20,15)\n",
    "    return run_and_graph_on_test_files(\"test1_{}.txt\".format(tag),0,1,\n",
    "                                \"test2_{}.txt\".format(tag),0,1,\n",
    "                                \"outa_{}.txt\".format(tag),\n",
    "                                \"outb_{}.txt\".format(tag),\n",
    "                                \"loga_{}.txt\".format(tag),\n",
    "                                \"logb_{}.txt\".format(tag))"
   ]
  },
  {
   "cell_type": "code",
   "execution_count": 27,
   "metadata": {
    "collapsed": true
   },
   "outputs": [],
   "source": [
    "def plot_overlap_single(R1,R2, title):\n",
    "    plt.figure(figsize=(4,1))\n",
    "    plt.grid()\n",
    "    i = 0\n",
    "    for line in R1:\n",
    "        plotline(line, i, plt, color=\"b\")\n",
    "        i = (i + 1) % 10\n",
    "    i = 0\n",
    "    for line in R2:\n",
    "        plotline(line, -(i+1), plt, color=\"r\")\n",
    "        i = (i + 1) % 4\n",
    "    plt.ylim(-3,3)\n",
    "    plt.title(title)\n",
    "    plt.yticks([])\n",
    "    plt.xticks([])\n",
    "    plt.show()"
   ]
  },
  {
   "cell_type": "code",
   "execution_count": 28,
   "metadata": {},
   "outputs": [
    {
     "data": {
      "image/png": "[encoded data removed]",
      "text/plain": [
       "<matplotlib.figure.Figure at 0x1072e99b0>"
      ]
     },
     "metadata": {},
     "output_type": "display_data"
    }
   ],
   "source": [
    "plot_overlap_single([(18,30)], [(0,15)], \"Type 0, no overlap\")"
   ]
  },
  {
   "cell_type": "code",
   "execution_count": 29,
   "metadata": {},
   "outputs": [
    {
     "data": {
      "image/png": "[encoded data removed]",
      "text/plain": [
       "<matplotlib.figure.Figure at 0x10743c860>"
      ]
     },
     "metadata": {},
     "output_type": "display_data"
    }
   ],
   "source": [
    "plot_overlap_single([(12,30)], [(0,17)], \"Type 1, partial overlap\")"
   ]
  },
  {
   "cell_type": "code",
   "execution_count": 30,
   "metadata": {},
   "outputs": [
    {
     "data": {
      "image/png": "[encoded data removed]",
      "text/plain": [
       "<matplotlib.figure.Figure at 0x107485668>"
      ]
     },
     "metadata": {},
     "output_type": "display_data"
    }
   ],
   "source": [
    "plot_overlap_single([(0,30)], [(12,27)], \"Type 2, TE encapsulated by mRNA\")"
   ]
  },
  {
   "cell_type": "code",
   "execution_count": 31,
   "metadata": {},
   "outputs": [
    {
     "data": {
      "image/png": "[encoded data removed]",
      "text/plain": [
       "<matplotlib.figure.Figure at 0x105f25198>"
      ]
     },
     "metadata": {},
     "output_type": "display_data"
    }
   ],
   "source": [
    "plot_overlap_single([(5,11)], [(3,24)], \"Type 3, mRNA encapsulated by TE\")"
   ]
  },
  {
   "cell_type": "code",
   "execution_count": 32,
   "metadata": {},
   "outputs": [
    {
     "data": {
      "image/png": "[encoded data removed]",
      "text/plain": [
       "<matplotlib.figure.Figure at 0x107511c88>"
      ]
     },
     "metadata": {},
     "output_type": "display_data"
    }
   ],
   "source": [
    "plot_overlap_single([(6,21)], [(6,21)], \"Type 4, perfect overlap\")"
   ]
  },
  {
   "cell_type": "code",
   "execution_count": 33,
   "metadata": {
    "collapsed": true
   },
   "outputs": [],
   "source": [
    "def plot_overlap_single_vertical(R1,R2, vert, lim, title):\n",
    "    plt.figure(figsize=(4,1))\n",
    "    plt.grid()\n",
    "    i = 0\n",
    "    for line in R1:\n",
    "        plotline(line, i, plt, color=\"b\")\n",
    "        i = (i + 1) % 10\n",
    "    i = 0\n",
    "    for line in R2:\n",
    "        plotline(line, -(i+1), plt, color=line[2])\n",
    "        i = (i + 1) % 4\n",
    "    for v in vert:\n",
    "        plt.plot((vert,vert),lim, color = \"c\")\n",
    "    plt.title(title)\n",
    "    plt.ylim(lim[0],lim[1])\n",
    "    plt.yticks([])\n",
    "    plt.xticks([])\n",
    "    plt.show()"
   ]
  },
  {
   "cell_type": "code",
   "execution_count": 34,
   "metadata": {},
   "outputs": [
    {
     "data": {
      "image/png": "[encoded data removed]",
      "text/plain": [
       "<matplotlib.figure.Figure at 0x1072f1f60>"
      ]
     },
     "metadata": {},
     "output_type": "display_data"
    }
   ],
   "source": [
    "plot_overlap_single_vertical([(0,11),(13,16),(13,20)], \n",
    "                    [(3,24,\"r\"),(18,29,\"g\")], [19], (-3,3),\n",
    "                    \"Loading Error, Overlap Missed\")"
   ]
  },
  {
   "cell_type": "code",
   "execution_count": 35,
   "metadata": {},
   "outputs": [
    {
     "data": {
      "image/png": "[encoded data removed]",
      "text/plain": [
       "<matplotlib.figure.Figure at 0x1072c0e48>"
      ]
     },
     "metadata": {},
     "output_type": "display_data"
    }
   ],
   "source": [
    "plot_overlap_single_vertical([(0,3),(10,16),(13,20), (30,40)], \n",
    "                    [(1,4,\"r\"),(8,24,\"r\"), (12,22,\"r\"), (28,36,\"r\")], [7,25], (-5,4),\n",
    "                    \"Window Fits Overlap Zones Snugly\")"
   ]
  },
  {
   "cell_type": "code",
   "execution_count": 36,
   "metadata": {},
   "outputs": [
    {
     "data": {
      "image/png": "[encoded data removed]",
      "text/plain": [
       "<matplotlib.figure.Figure at 0x107272668>"
      ]
     },
     "metadata": {},
     "output_type": "display_data"
    }
   ],
   "source": [
    "plot_overlap_single_vertical([(0,9), (1,2),(3,5),(10,16),(13,20), (30,40), (32,55), (31,33)], \n",
    "                    [(18,23,\"r\"),(23,29,\"r\"),(59,80,\"r\")], [19], (-4,8),\n",
    "                    \"Only One Overlap in a Cluttered Region\")"
   ]
  },
  {
   "cell_type": "code",
   "execution_count": 37,
   "metadata": {},
   "outputs": [
    {
     "data": {
      "image/png": "[encoded data removed]",
      "text/plain": [
       "<matplotlib.figure.Figure at 0x10731c2b0>"
      ]
     },
     "metadata": {},
     "output_type": "display_data"
    }
   ],
   "source": [
    "plot_overlap_single_vertical([(0,8),(7,15),(14,19),(13,25),(23,33),(30,45)], \n",
    "                    [(2,42,\"r\")], [], (-2,6),\n",
    "                    \"A Worst Case Scenario Distribution\")"
   ]
  },
  {
   "cell_type": "code",
   "execution_count": 38,
   "metadata": {},
   "outputs": [
    {
     "name": "stdout",
     "output_type": "stream",
     "text": [
      "Opened B73V4_ctg210.rna\n",
      "Opened B73V4_ctg210.te\n"
     ]
    }
   ],
   "source": [
    "R3 = rl.ReadList(\"B73V4_ctg210.rna\", 8, 9)\n",
    "R4 = rl.ReadList(\"B73V4_ctg210.te\", 3, 4)"
   ]
  },
  {
   "cell_type": "code",
   "execution_count": 39,
   "metadata": {},
   "outputs": [
    {
     "name": "stdout",
     "output_type": "stream",
     "text": [
      "Opened B73V4_ctg210.rna\n",
      "Opened B73V4_ctg210.te\n",
      "Opened outa.txt\n",
      "Opened B73V4_ctg210.rna\n",
      "Opened B73V4_ctg210.te\n",
      "Opened outb.txt\n",
      "Closed B73V4_ctg210.rna\n",
      "Closed B73V4_ctg210.te\n",
      "Closed outa.txt\n",
      "Closed B73V4_ctg210.rna\n",
      "Closed B73V4_ctg210.te\n",
      "Closed outb.txt\n"
     ]
    },
    {
     "data": {
      "image/png": "[encoded data removed]",
      "text/plain": [
       "<matplotlib.figure.Figure at 0x1051b4278>"
      ]
     },
     "metadata": {},
     "output_type": "display_data"
    },
    {
     "name": "stdout",
     "output_type": "stream",
     "text": [
      "Closed outa.txt\n",
      "Closed outb.txt\n"
     ]
    },
    {
     "data": {
      "text/plain": [
       "(162436.75291446535, 393776.0, 531814.74496790813, 776880.0)"
      ]
     },
     "execution_count": 39,
     "metadata": {},
     "output_type": "execute_result"
    }
   ],
   "source": [
    "run_and_graph_on_test_files(\"B73V4_ctg210.rna\",8,9,\n",
    "                            \"B73V4_ctg210.te\",3,4,\n",
    "                            \"outa.txt\",\n",
    "                            \"outb.txt\",\n",
    "                            \"loga.txt\",\n",
    "                            \"logb.txt\",\n",
    "                            True, True)"
   ]
  },
  {
   "cell_type": "code",
   "execution_count": 40,
   "metadata": {},
   "outputs": [
    {
     "name": "stdout",
     "output_type": "stream",
     "text": [
      "Opened test1_10.txt\n",
      "Opened test2_10.txt\n",
      "Opened outa_10.txt\n",
      "Opened test1_10.txt\n",
      "Opened test2_10.txt\n",
      "Opened outb_10.txt\n",
      "Closed test1_10.txt\n",
      "Closed test2_10.txt\n",
      "Closed outa_10.txt\n",
      "Closed test1_10.txt\n",
      "Closed test2_10.txt\n",
      "Closed outb_10.txt\n"
     ]
    },
    {
     "data": {
      "image/png": "[encoded data removed]",
      "text/plain": [
       "<matplotlib.figure.Figure at 0x105f68898>"
      ]
     },
     "metadata": {},
     "output_type": "display_data"
    },
    {
     "name": "stdout",
     "output_type": "stream",
     "text": [
      "Closed outa_10.txt\n",
      "Closed outb_10.txt\n"
     ]
    },
    {
     "data": {
      "text/plain": [
       "(1145.4436090225563, 2312.0, 5016.4210526315792, 6984.0)"
      ]
     },
     "execution_count": 40,
     "metadata": {},
     "output_type": "execute_result"
    }
   ],
   "source": [
    "analyze(10,\"10\")"
   ]
  },
  {
   "cell_type": "code",
   "execution_count": 41,
   "metadata": {},
   "outputs": [
    {
     "name": "stdout",
     "output_type": "stream",
     "text": [
      "Opened test1_100.txt\n",
      "Opened test2_100.txt\n",
      "Opened outa_100.txt\n",
      "Opened test1_100.txt\n",
      "Opened test2_100.txt\n",
      "Opened outb_100.txt\n",
      "Closed test1_100.txt\n",
      "Closed test2_100.txt\n",
      "Closed outa_100.txt\n",
      "Closed test1_100.txt\n",
      "Closed test2_100.txt\n",
      "Closed outb_100.txt\n"
     ]
    },
    {
     "data": {
      "image/png": "[encoded data removed]",
      "text/plain": [
       "<matplotlib.figure.Figure at 0x105f555f8>"
      ]
     },
     "metadata": {},
     "output_type": "display_data"
    },
    {
     "name": "stdout",
     "output_type": "stream",
     "text": [
      "Closed outa_100.txt\n",
      "Closed outb_100.txt\n"
     ]
    },
    {
     "data": {
      "text/plain": [
       "(1098.6901694915255, 2384.0, 38074.869152542371, 70904.0)"
      ]
     },
     "execution_count": 41,
     "metadata": {},
     "output_type": "execute_result"
    }
   ],
   "source": [
    "analyze(100,\"100\")"
   ]
  },
  {
   "cell_type": "code",
   "execution_count": null,
   "metadata": {},
   "outputs": [
    {
     "name": "stdout",
     "output_type": "stream",
     "text": [
      "Opened test1_1000.txt\n",
      "Opened test2_1000.txt\n",
      "Opened outa_1000.txt\n",
      "Opened test1_1000.txt\n",
      "Opened test2_1000.txt\n",
      "Opened outb_1000.txt\n",
      "Closed test1_1000.txt\n",
      "Closed test2_1000.txt\n",
      "Closed outa_1000.txt\n",
      "Closed test1_1000.txt\n",
      "Closed test2_1000.txt\n",
      "Closed outb_1000.txt\n"
     ]
    },
    {
     "data": {
      "image/png": "[encoded data removed]",
      "text/plain": [
       "<matplotlib.figure.Figure at 0x107246b38>"
      ]
     },
     "metadata": {},
     "output_type": "display_data"
    },
    {
     "name": "stdout",
     "output_type": "stream",
     "text": [
      "Closed outa_1000.txt\n",
      "Closed outb_1000.txt\n"
     ]
    },
    {
     "data": {
      "text/plain": [
       "(1100.0355767954334, 2456.0, 367466.70171246515, 708320.0)"
      ]
     },
     "execution_count": 42,
     "metadata": {},
     "output_type": "execute_result"
    }
   ],
   "source": [
    "analyze(1000,\"1000\")"
   ]
  },
  {
   "cell_type": "code",
   "execution_count": null,
   "metadata": {
    "scrolled": true
   },
   "outputs": [
    {
     "name": "stdout",
     "output_type": "stream",
     "text": [
      "Opened B73V4_ctg199.rna\n",
      "Opened B73V4_ctg199.te\n",
      "Opened outa.txt\n",
      "Opened B73V4_ctg199.rna\n",
      "Opened B73V4_ctg199.te\n",
      "Opened outb.txt\n",
      "Closed B73V4_ctg199.rna\n",
      "Closed B73V4_ctg199.te\n",
      "Closed outa.txt\n"
     ]
    }
   ],
   "source": [
    "run_and_graph_on_test_files(\"B73V4_ctg199.rna\",8,9,\n",
    "                            \"B73V4_ctg199.te\",3,4,\n",
    "                            \"outa.txt\",\n",
    "                            \"outb.txt\",\n",
    "                            \"loga.txt\",\n",
    "                            \"logb.txt\",\n",
    "                            True, True)"
   ]
  },
  {
   "cell_type": "code",
   "execution_count": null,
   "metadata": {},
   "outputs": [],
   "source": [
    "run_and_graph_on_test_files(\"B73V4_ctg121.rna\",8,9,\n",
    "                            \"B73V4_ctg121.te\",3,4,\n",
    "                            \"outa.txt\",\n",
    "                            \"outb.txt\",\n",
    "                            \"loga.txt\",\n",
    "                            \"logb.txt\",\n",
    "                            True, True)"
   ]
  },
  {
   "cell_type": "code",
   "execution_count": null,
   "metadata": {
    "scrolled": true
   },
   "outputs": [],
   "source": [
    "run_and_graph_on_test_files(\"B73V4_ctg93.rna\",8,9,\n",
    "                            \"B73V4_ctg93.te\",3,4,\n",
    "                            \"outa.txt\",\n",
    "                            \"outb.txt\",\n",
    "                            \"loga.txt\",\n",
    "                            \"logb.txt\",\n",
    "                            True, True)"
   ]
  },
  {
   "cell_type": "code",
   "execution_count": null,
   "metadata": {},
   "outputs": [],
   "source": [
    "run_and_graph_on_test_files(\"B73V4_ctg210.te\",3,4,\n",
    "                            \"B73V4_ctg210.rna\",8,9,\n",
    "                            \"outa.txt\",\n",
    "                            \"outb.txt\",\n",
    "                            \"loga.txt\",\n",
    "                            \"logb.txt\",\n",
    "                            True, True)"
   ]
  },
  {
   "cell_type": "code",
   "execution_count": null,
   "metadata": {
    "scrolled": true
   },
   "outputs": [],
   "source": [
    "plot_overlaps(R3,R4, 50, 50)"
   ]
  },
  {
   "cell_type": "code",
   "execution_count": null,
   "metadata": {},
   "outputs": [],
   "source": [
    "plot_overlaps(R3,R4, 30, 5)"
   ]
  },
  {
   "cell_type": "code",
   "execution_count": null,
   "metadata": {},
   "outputs": [],
   "source": [
    "run_and_graph_on_test_files(\"test1.txt\",0,1,\n",
    "                            \"test2.txt\",0,1,\n",
    "                            \"outa.txt\",\n",
    "                            \"outb.txt\",\n",
    "                            \"loga.txt\",\n",
    "                            \"logb.txt\",\n",
    "                            True, True)"
   ]
  },
  {
   "cell_type": "code",
   "execution_count": null,
   "metadata": {},
   "outputs": [],
   "source": [
    "run_and_graph_on_test_files(\"test2.txt\",0,1,\n",
    "                            \"test1.txt\",0,1,\n",
    "                            \"outa.txt\",\n",
    "                            \"outb.txt\",\n",
    "                            \"loga.txt\",\n",
    "                            \"logb.txt\",\n",
    "                            True, True)"
   ]
  },
  {
   "cell_type": "code",
   "execution_count": null,
   "metadata": {},
   "outputs": [],
   "source": [
    "run_and_graph_on_test_files(\"B73V4_ctg93.te\",3,4,\n",
    "                            \"B73V4_ctg93.rna\",8,9,\n",
    "                            \"outa.txt\",\n",
    "                            \"outb.txt\",\n",
    "                            \"loga.txt\",\n",
    "                            \"logb.txt\",\n",
    "                            True, True)"
   ]
  },
  {
   "cell_type": "code",
   "execution_count": null,
   "metadata": {},
   "outputs": [],
   "source": [
    "run_and_graph_on_test_files(\"B73V4_ctg121.te\",3,4,\n",
    "                            \"B73V4_ctg121.rna\",8,9,\n",
    "                            \"outa.txt\",\n",
    "                            \"outb.txt\",\n",
    "                            \"loga.txt\",\n",
    "                            \"logb.txt\",\n",
    "                            True, True)"
   ]
  },
  {
   "cell_type": "code",
   "execution_count": null,
   "metadata": {
    "collapsed": true
   },
   "outputs": [],
   "source": []
  }
 ],
 "metadata": {
  "kernelspec": {
   "display_name": "Python 3",
   "language": "python",
   "name": "python3"
  },
  "language_info": {
   "codemirror_mode": {
    "name": "ipython",
    "version": 3
   },
   "file_extension": ".py",
   "mimetype": "text/x-python",
   "name": "python",
   "nbconvert_exporter": "python",
   "pygments_lexer": "ipython3",
   "version": "3.4.1"
  }
 },
 "nbformat": 4,
 "nbformat_minor": 2
}
